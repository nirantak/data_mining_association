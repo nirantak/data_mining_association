{
 "cells": [
  {
   "cell_type": "markdown",
   "metadata": {},
   "source": [
    "## DMBI Project\n",
    "### Dataset - Stack Overflow Developers Survey"
   ]
  },
  {
   "cell_type": "code",
   "execution_count": 1,
   "metadata": {},
   "outputs": [],
   "source": [
    "import numpy as np\n",
    "import pandas as pd\n",
    "import Orange\n",
    "import matplotlib.pyplot as plt\n",
    "% matplotlib inline"
   ]
  },
  {
   "cell_type": "code",
   "execution_count": 2,
   "metadata": {},
   "outputs": [
    {
     "name": "stdout",
     "output_type": "stream",
     "text": [
      "Index(['Professional', 'Country', 'DeveloperType', 'NonDeveloperType',\n",
      "       'HaveWorkedLanguage', 'WantWorkLanguage', 'HaveWorkedFramework',\n",
      "       'WantWorkFramework', 'HaveWorkedDatabase', 'WantWorkDatabase',\n",
      "       'Salary'],\n",
      "      dtype='object')\n",
      "(51392, 11)\n"
     ]
    }
   ],
   "source": [
    "fields = ['Professional', 'Country', 'DeveloperType', 'NonDeveloperType', 'HaveWorkedLanguage',\n",
    "          'WantWorkLanguage', 'HaveWorkedFramework', 'WantWorkFramework', 'HaveWorkedDatabase',\n",
    "          'WantWorkDatabase', 'Salary']\n",
    "\n",
    "df = pd.read_csv('survey_results_public.csv', skipinitialspace=True, usecols=fields)\n",
    "\n",
    "print(df.keys())\n",
    "print(df.shape)"
   ]
  },
  {
   "cell_type": "code",
   "execution_count": 3,
   "metadata": {},
   "outputs": [
    {
     "name": "stdout",
     "output_type": "stream",
     "text": [
      "(34838, 5)\n"
     ]
    },
    {
     "data": {
      "text/html": [
       "<div>\n",
       "<style scoped>\n",
       "    .dataframe tbody tr th:only-of-type {\n",
       "        vertical-align: middle;\n",
       "    }\n",
       "\n",
       "    .dataframe tbody tr th {\n",
       "        vertical-align: top;\n",
       "    }\n",
       "\n",
       "    .dataframe thead th {\n",
       "        text-align: right;\n",
       "    }\n",
       "</style>\n",
       "<table border=\"1\" class=\"dataframe\">\n",
       "  <thead>\n",
       "    <tr style=\"text-align: right;\">\n",
       "      <th></th>\n",
       "      <th>Professional</th>\n",
       "      <th>Country</th>\n",
       "      <th>DeveloperType</th>\n",
       "      <th>HaveWorkedLanguage</th>\n",
       "      <th>Salary</th>\n",
       "    </tr>\n",
       "  </thead>\n",
       "  <tbody>\n",
       "    <tr>\n",
       "      <th>0</th>\n",
       "      <td>Student</td>\n",
       "      <td>United States</td>\n",
       "      <td>General</td>\n",
       "      <td>Swift</td>\n",
       "      <td>NaN</td>\n",
       "    </tr>\n",
       "    <tr>\n",
       "      <th>1</th>\n",
       "      <td>Student</td>\n",
       "      <td>United Kingdom</td>\n",
       "      <td>General</td>\n",
       "      <td>JavaScript; Python; Ruby; SQL</td>\n",
       "      <td>NaN</td>\n",
       "    </tr>\n",
       "    <tr>\n",
       "      <th>3</th>\n",
       "      <td>Professional non-developer who sometimes write...</td>\n",
       "      <td>United States</td>\n",
       "      <td>Data scientist</td>\n",
       "      <td>Matlab; Python; R; SQL</td>\n",
       "      <td>NaN</td>\n",
       "    </tr>\n",
       "    <tr>\n",
       "      <th>5</th>\n",
       "      <td>Student</td>\n",
       "      <td>New Zealand</td>\n",
       "      <td>General</td>\n",
       "      <td>JavaScript; PHP; Rust</td>\n",
       "      <td>NaN</td>\n",
       "    </tr>\n",
       "    <tr>\n",
       "      <th>6</th>\n",
       "      <td>Professional non-developer who sometimes write...</td>\n",
       "      <td>United States</td>\n",
       "      <td>Data scientist</td>\n",
       "      <td>Matlab; Python</td>\n",
       "      <td>NaN</td>\n",
       "    </tr>\n",
       "  </tbody>\n",
       "</table>\n",
       "</div>"
      ],
      "text/plain": [
       "                                        Professional         Country  \\\n",
       "0                                            Student   United States   \n",
       "1                                            Student  United Kingdom   \n",
       "3  Professional non-developer who sometimes write...   United States   \n",
       "5                                            Student     New Zealand   \n",
       "6  Professional non-developer who sometimes write...   United States   \n",
       "\n",
       "    DeveloperType             HaveWorkedLanguage  Salary  \n",
       "0         General                          Swift     NaN  \n",
       "1         General  JavaScript; Python; Ruby; SQL     NaN  \n",
       "3  Data scientist         Matlab; Python; R; SQL     NaN  \n",
       "5         General          JavaScript; PHP; Rust     NaN  \n",
       "6  Data scientist                 Matlab; Python     NaN  "
      ]
     },
     "execution_count": 3,
     "metadata": {},
     "output_type": "execute_result"
    }
   ],
   "source": [
    "df['DeveloperType'] = df['DeveloperType'].fillna(df['NonDeveloperType'])\n",
    "df.loc[df['DeveloperType'] == 'Other'] = np.nan\n",
    "df['DeveloperType'] = df['DeveloperType'].fillna('General')\n",
    "df = df.drop(['NonDeveloperType', 'WantWorkLanguage', 'HaveWorkedFramework',\n",
    "\t\t\t  'WantWorkFramework', 'HaveWorkedDatabase', 'WantWorkDatabase'], axis = 1)\n",
    "df = df[pd.notnull(df['HaveWorkedLanguage'])]\n",
    "print(df.shape)\n",
    "df.to_csv('survey_results_cleaned.csv', sep=',', na_rep='NaN')\n",
    "df.head()"
   ]
  },
  {
   "cell_type": "code",
   "execution_count": 4,
   "metadata": {},
   "outputs": [
    {
     "name": "stdout",
     "output_type": "stream",
     "text": [
      "<class 'numpy.ndarray'>\n",
      "34838\n"
     ]
    }
   ],
   "source": [
    "HaveWorkedLanguage = df['HaveWorkedLanguage'].as_matrix()\n",
    "HaveWorkedLanguage = np.array([[x.strip() for x in row.split(';')] for row in HaveWorkedLanguage])\n",
    "print(type(HaveWorkedLanguage))\n",
    "print(len(HaveWorkedLanguage))\n",
    "np.savetxt(\"language.csv\", HaveWorkedLanguage, delimiter=\",\", newline='\\n', fmt='%s', encoding='utf-8')"
   ]
  },
  {
   "cell_type": "markdown",
   "metadata": {},
   "source": [
    "## Orange"
   ]
  },
  {
   "cell_type": "code",
   "execution_count": 5,
   "metadata": {},
   "outputs": [],
   "source": [
    "# data = Orange.data.Table('language.csv')"
   ]
  },
  {
   "cell_type": "code",
   "execution_count": null,
   "metadata": {},
   "outputs": [],
   "source": []
  }
 ],
 "metadata": {
  "kernelspec": {
   "display_name": "Python 3",
   "language": "python",
   "name": "python3"
  },
  "language_info": {
   "codemirror_mode": {
    "name": "ipython",
    "version": 3
   },
   "file_extension": ".py",
   "mimetype": "text/x-python",
   "name": "python",
   "nbconvert_exporter": "python",
   "pygments_lexer": "ipython3",
   "version": "3.6.3"
  }
 },
 "nbformat": 4,
 "nbformat_minor": 2
}
