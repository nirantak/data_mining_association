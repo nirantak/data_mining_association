{
 "cells": [
  {
   "cell_type": "markdown",
   "metadata": {},
   "source": [
    "## DMBI Project\n",
    "### Dataset - Stack Overflow Developers Survey"
   ]
  },
  {
   "cell_type": "code",
   "execution_count": 1,
   "metadata": {},
   "outputs": [],
   "source": [
    "import numpy as np\n",
    "import pandas as pd"
   ]
  },
  {
   "cell_type": "code",
   "execution_count": 2,
   "metadata": {},
   "outputs": [
    {
     "name": "stdout",
     "output_type": "stream",
     "text": [
      "Index(['Professional', 'Country', 'DeveloperType', 'NonDeveloperType',\n",
      "       'HaveWorkedLanguage', 'WantWorkLanguage'],\n",
      "      dtype='object')\n",
      "(51392, 6)\n"
     ]
    }
   ],
   "source": [
    "fields = ['Professional', 'Country', 'DeveloperType', 'NonDeveloperType', 'HaveWorkedLanguage',\n",
    "          'WantWorkLanguage']\n",
    "\n",
    "df = pd.read_csv('survey_results_public.csv', skipinitialspace=True, usecols=fields)\n",
    "\n",
    "print(df.keys())\n",
    "print(df.shape)"
   ]
  },
  {
   "cell_type": "code",
   "execution_count": 3,
   "metadata": {},
   "outputs": [
    {
     "name": "stdout",
     "output_type": "stream",
     "text": [
      "(3924, 5)\n"
     ]
    },
    {
     "data": {
      "text/html": [
       "<div>\n",
       "<style scoped>\n",
       "    .dataframe tbody tr th:only-of-type {\n",
       "        vertical-align: middle;\n",
       "    }\n",
       "\n",
       "    .dataframe tbody tr th {\n",
       "        vertical-align: top;\n",
       "    }\n",
       "\n",
       "    .dataframe thead th {\n",
       "        text-align: right;\n",
       "    }\n",
       "</style>\n",
       "<table border=\"1\" class=\"dataframe\">\n",
       "  <thead>\n",
       "    <tr style=\"text-align: right;\">\n",
       "      <th></th>\n",
       "      <th>Professional</th>\n",
       "      <th>Country</th>\n",
       "      <th>DeveloperType</th>\n",
       "      <th>HaveWorkedLanguage</th>\n",
       "      <th>WantWorkLanguage</th>\n",
       "    </tr>\n",
       "  </thead>\n",
       "  <tbody>\n",
       "    <tr>\n",
       "      <th>1</th>\n",
       "      <td>Student</td>\n",
       "      <td>United Kingdom</td>\n",
       "      <td>General</td>\n",
       "      <td>JavaScript; Python; Ruby; SQL</td>\n",
       "      <td>Java; Python; Ruby; SQL</td>\n",
       "    </tr>\n",
       "    <tr>\n",
       "      <th>5</th>\n",
       "      <td>Student</td>\n",
       "      <td>New Zealand</td>\n",
       "      <td>General</td>\n",
       "      <td>JavaScript; PHP; Rust</td>\n",
       "      <td>Clojure; Elixir; Erlang; Haskell; Rust; TypeSc...</td>\n",
       "    </tr>\n",
       "    <tr>\n",
       "      <th>56</th>\n",
       "      <td>Student</td>\n",
       "      <td>United States</td>\n",
       "      <td>General</td>\n",
       "      <td>C#</td>\n",
       "      <td>C#; F#</td>\n",
       "    </tr>\n",
       "    <tr>\n",
       "      <th>114</th>\n",
       "      <td>Student</td>\n",
       "      <td>Bulgaria</td>\n",
       "      <td>General</td>\n",
       "      <td>C#</td>\n",
       "      <td>Assembly; C; C++; C#; Java</td>\n",
       "    </tr>\n",
       "    <tr>\n",
       "      <th>117</th>\n",
       "      <td>Student</td>\n",
       "      <td>United Kingdom</td>\n",
       "      <td>General</td>\n",
       "      <td>VB.NET</td>\n",
       "      <td>C#; Ruby</td>\n",
       "    </tr>\n",
       "  </tbody>\n",
       "</table>\n",
       "</div>"
      ],
      "text/plain": [
       "    Professional         Country DeveloperType             HaveWorkedLanguage  \\\n",
       "1        Student  United Kingdom       General  JavaScript; Python; Ruby; SQL   \n",
       "5        Student     New Zealand       General          JavaScript; PHP; Rust   \n",
       "56       Student   United States       General                             C#   \n",
       "114      Student        Bulgaria       General                             C#   \n",
       "117      Student  United Kingdom       General                         VB.NET   \n",
       "\n",
       "                                      WantWorkLanguage  \n",
       "1                              Java; Python; Ruby; SQL  \n",
       "5    Clojure; Elixir; Erlang; Haskell; Rust; TypeSc...  \n",
       "56                                              C#; F#  \n",
       "114                         Assembly; C; C++; C#; Java  \n",
       "117                                           C#; Ruby  "
      ]
     },
     "execution_count": 3,
     "metadata": {},
     "output_type": "execute_result"
    }
   ],
   "source": [
    "df['DeveloperType'] = df['DeveloperType'].fillna(df['NonDeveloperType'])\n",
    "df.loc[df['DeveloperType'] == 'Other'] = np.nan\n",
    "df.loc[df['HaveWorkedLanguage'] == df['WantWorkLanguage']] = np.nan\n",
    "df['DeveloperType'] = df['DeveloperType'].fillna('General')\n",
    "df = df.drop(['NonDeveloperType'], axis = 1)\n",
    "df = df.dropna(axis=0, how='any')\n",
    "df = df[df['Professional'].str.lower() == 'student']\n",
    "print(df.shape)\n",
    "df.to_csv('survey_results_cleaned.csv', sep=',', na_rep='NaN')\n",
    "df.head()"
   ]
  },
  {
   "cell_type": "code",
   "execution_count": 4,
   "metadata": {},
   "outputs": [
    {
     "name": "stdout",
     "output_type": "stream",
     "text": [
      "3924\n"
     ]
    }
   ],
   "source": [
    "np.savetxt(\"language.csv\", df['WantWorkLanguage'], delimiter=\",\", newline='\\n', fmt='%s')\n",
    "print(len(df['WantWorkLanguage']))"
   ]
  },
  {
   "cell_type": "code",
   "execution_count": 5,
   "metadata": {},
   "outputs": [
    {
     "data": {
      "text/html": [
       "<div>\n",
       "<style scoped>\n",
       "    .dataframe tbody tr th:only-of-type {\n",
       "        vertical-align: middle;\n",
       "    }\n",
       "\n",
       "    .dataframe tbody tr th {\n",
       "        vertical-align: top;\n",
       "    }\n",
       "\n",
       "    .dataframe thead th {\n",
       "        text-align: right;\n",
       "    }\n",
       "</style>\n",
       "<table border=\"1\" class=\"dataframe\">\n",
       "  <thead>\n",
       "    <tr style=\"text-align: right;\">\n",
       "      <th></th>\n",
       "      <th>0</th>\n",
       "    </tr>\n",
       "  </thead>\n",
       "  <tbody>\n",
       "    <tr>\n",
       "      <th>0</th>\n",
       "      <td>Java; Python; Ruby; SQL</td>\n",
       "    </tr>\n",
       "    <tr>\n",
       "      <th>1</th>\n",
       "      <td>Clojure; Elixir; Erlang; Haskell; Rust; TypeSc...</td>\n",
       "    </tr>\n",
       "    <tr>\n",
       "      <th>2</th>\n",
       "      <td>C#; F#</td>\n",
       "    </tr>\n",
       "    <tr>\n",
       "      <th>3</th>\n",
       "      <td>Assembly; C; C++; C#; Java</td>\n",
       "    </tr>\n",
       "    <tr>\n",
       "      <th>4</th>\n",
       "      <td>C#; Ruby</td>\n",
       "    </tr>\n",
       "  </tbody>\n",
       "</table>\n",
       "</div>"
      ],
      "text/plain": [
       "                                                   0\n",
       "0                            Java; Python; Ruby; SQL\n",
       "1  Clojure; Elixir; Erlang; Haskell; Rust; TypeSc...\n",
       "2                                             C#; F#\n",
       "3                         Assembly; C; C++; C#; Java\n",
       "4                                           C#; Ruby"
      ]
     },
     "execution_count": 5,
     "metadata": {},
     "output_type": "execute_result"
    }
   ],
   "source": [
    "df = pd.read_csv('language.csv', header=None)\n",
    "df.head()"
   ]
  },
  {
   "cell_type": "code",
   "execution_count": 6,
   "metadata": {},
   "outputs": [
    {
     "name": "stdout",
     "output_type": "stream",
     "text": [
      "(2192, 4)\n"
     ]
    },
    {
     "data": {
      "text/html": [
       "<div>\n",
       "<style scoped>\n",
       "    .dataframe tbody tr th:only-of-type {\n",
       "        vertical-align: middle;\n",
       "    }\n",
       "\n",
       "    .dataframe tbody tr th {\n",
       "        vertical-align: top;\n",
       "    }\n",
       "\n",
       "    .dataframe thead th {\n",
       "        text-align: right;\n",
       "    }\n",
       "</style>\n",
       "<table border=\"1\" class=\"dataframe\">\n",
       "  <thead>\n",
       "    <tr style=\"text-align: right;\">\n",
       "      <th></th>\n",
       "      <th>lang0</th>\n",
       "      <th>lang1</th>\n",
       "      <th>lang2</th>\n",
       "      <th>lang3</th>\n",
       "    </tr>\n",
       "  </thead>\n",
       "  <tbody>\n",
       "    <tr>\n",
       "      <th>0</th>\n",
       "      <td>Java</td>\n",
       "      <td>Python</td>\n",
       "      <td>Ruby</td>\n",
       "      <td>SQL</td>\n",
       "    </tr>\n",
       "    <tr>\n",
       "      <th>1</th>\n",
       "      <td>Clojure</td>\n",
       "      <td>Elixir</td>\n",
       "      <td>Erlang</td>\n",
       "      <td>Haskell</td>\n",
       "    </tr>\n",
       "    <tr>\n",
       "      <th>2</th>\n",
       "      <td>Assembly</td>\n",
       "      <td>C</td>\n",
       "      <td>C++</td>\n",
       "      <td>C#</td>\n",
       "    </tr>\n",
       "    <tr>\n",
       "      <th>3</th>\n",
       "      <td>Groovy</td>\n",
       "      <td>Java</td>\n",
       "      <td>JavaScript</td>\n",
       "      <td>Lua</td>\n",
       "    </tr>\n",
       "    <tr>\n",
       "      <th>4</th>\n",
       "      <td>Assembly</td>\n",
       "      <td>C</td>\n",
       "      <td>C++</td>\n",
       "      <td>C#</td>\n",
       "    </tr>\n",
       "  </tbody>\n",
       "</table>\n",
       "</div>"
      ],
      "text/plain": [
       "      lang0    lang1        lang2     lang3\n",
       "0      Java   Python         Ruby       SQL\n",
       "1   Clojure   Elixir       Erlang   Haskell\n",
       "2  Assembly        C          C++        C#\n",
       "3    Groovy     Java   JavaScript       Lua\n",
       "4  Assembly        C          C++        C#"
      ]
     },
     "execution_count": 6,
     "metadata": {},
     "output_type": "execute_result"
    }
   ],
   "source": [
    "df2 = pd.DataFrame(df[0].str.split(';').values.tolist())\n",
    "n=4\n",
    "df2 = df2.loc[:,0:n-1]\n",
    "df2 = df2.dropna(axis=0, how='any')\n",
    "df2.to_csv('language_data.csv', sep=',', header=[f'lang{i}' for i in range(n)], index=False)\n",
    "df3 = pd.read_csv('language_data.csv')\n",
    "print(df3.shape)\n",
    "df3.head()"
   ]
  },
  {
   "cell_type": "code",
   "execution_count": null,
   "metadata": {},
   "outputs": [],
   "source": []
  }
 ],
 "metadata": {
  "kernelspec": {
   "display_name": "Python 3",
   "language": "python",
   "name": "python3"
  },
  "language_info": {
   "codemirror_mode": {
    "name": "ipython",
    "version": 3
   },
   "file_extension": ".py",
   "mimetype": "text/x-python",
   "name": "python",
   "nbconvert_exporter": "python",
   "pygments_lexer": "ipython3",
   "version": "3.6.3"
  }
 },
 "nbformat": 4,
 "nbformat_minor": 2
}
