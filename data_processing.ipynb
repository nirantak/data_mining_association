{
 "cells": [
  {
   "cell_type": "markdown",
   "metadata": {},
   "source": [
    "## Data Processing"
   ]
  },
  {
   "cell_type": "code",
   "execution_count": 1,
   "metadata": {},
   "outputs": [],
   "source": [
    "import numpy as np\n",
    "import pandas as pd\n",
    "import Orange\n",
    "from orangecontrib.associate.fpgrowth import *"
   ]
  },
  {
   "cell_type": "code",
   "execution_count": 2,
   "metadata": {},
   "outputs": [
    {
     "data": {
      "text/plain": [
       "[[Java, Python, Ruby, SQL, ?, ...] {?, ?, ?, ?, ?, ...},\n",
       " [Clojure, Elixir, Erlang, Haskell, ?, ...] {Rust, TypeScript, ?, ?, ?, ...},\n",
       " [C#, F#, ?, ?, ?, ...] {?, ?, ?, ?, ?, ...},\n",
       " [Assembly, C, C++, C#, ?, ...] {Java, ?, ?, ?, ?, ...},\n",
       " [C#, Ruby, ?, ?, ?, ...] {?, ?, ?, ?, ?, ...},\n",
       " ...\n",
       "]"
      ]
     },
     "execution_count": 2,
     "metadata": {},
     "output_type": "execute_result"
    }
   ],
   "source": [
    "data = Orange.data.Table('language_data.csv')\n",
    "data"
   ]
  },
  {
   "cell_type": "code",
   "execution_count": 3,
   "metadata": {},
   "outputs": [],
   "source": [
    "X, mapping = OneHot.encode(data, include_class=True)"
   ]
  },
  {
   "cell_type": "code",
   "execution_count": 4,
   "metadata": {},
   "outputs": [
    {
     "name": "stdout",
     "output_type": "stream",
     "text": [
      "11\n"
     ]
    }
   ],
   "source": [
    "itemsets = dict(frequent_itemsets(X, .1))\n",
    "print(len(itemsets))"
   ]
  },
  {
   "cell_type": "code",
   "execution_count": null,
   "metadata": {},
   "outputs": [],
   "source": []
  }
 ],
 "metadata": {
  "kernelspec": {
   "display_name": "Python 3",
   "language": "python",
   "name": "python3"
  },
  "language_info": {
   "codemirror_mode": {
    "name": "ipython",
    "version": 3
   },
   "file_extension": ".py",
   "mimetype": "text/x-python",
   "name": "python",
   "nbconvert_exporter": "python",
   "pygments_lexer": "ipython3",
   "version": "3.6.3"
  }
 },
 "nbformat": 4,
 "nbformat_minor": 2
}
